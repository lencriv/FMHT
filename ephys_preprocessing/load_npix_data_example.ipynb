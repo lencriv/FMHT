{
 "cells": [
  {
   "cell_type": "markdown",
   "metadata": {},
   "source": [
    "# Set up"
   ]
  },
  {
   "cell_type": "code",
   "execution_count": null,
   "metadata": {},
   "outputs": [],
   "source": [
    "import numpy as np\n",
    "import matplotlib.pyplot as plt\n",
    "import os\n",
    "import sys\n",
    "from scipy.stats import zscore\n",
    "\n",
    "# add the brainwide-npix folder and subfolder to the working path:\n",
    "sys.path.append(r\"<insert_your_path_to_functions_here>\\brainwide-npix\")\n",
    "\n",
    "from bwnpix import data_extract \n",
    "from bwnpix import load\n",
    "from bwnpix import anatomy\n",
    "from bwnpix.multiprobe import *\n",
    "from bwnpix.data_loading import *\n",
    "from bwnpix.plot_functions import *\n",
    "from bwnpix.data_extract import *"
   ]
  },
  {
   "cell_type": "markdown",
   "metadata": {},
   "source": [
    "# Cache data"
   ]
  },
  {
   "cell_type": "code",
   "execution_count": null,
   "metadata": {
    "scrolled": true
   },
   "outputs": [],
   "source": [
    "#load and cache hungry and thirsty recordings\n",
    "ht_recordings = get_good_recordings('both')\n",
    "ht_paths = cache_data(ht_recordings) \n",
    "smooth_and_cache_fr(ht_paths, smooth_size=5, save_dir=data_ex port_path)"
   ]
  },
  {
   "cell_type": "code",
   "execution_count": null,
   "metadata": {},
   "outputs": [],
   "source": [
    "#load and cache hungry only recordings\n",
    "h_recordings = get_good_recordings('hungry')\n",
    "h_paths = cache_data(h_recordings) \n",
    "smooth_and_cache_fr(h_paths, smooth_size=5, save_dir=data_export_path)"
   ]
  },
  {
   "cell_type": "code",
   "execution_count": null,
   "metadata": {
    "scrolled": true
   },
   "outputs": [],
   "source": [
    "#load and cache thirsty only recordings\n",
    "t_recordings = get_good_recordings('thirsty')\n",
    "t_paths = cache_data(t_recordings) \n",
    "smooth_and_cache_fr(t_paths, smooth_size=5, save_dir=data_export_path)"
   ]
  },
  {
   "cell_type": "code",
   "execution_count": null,
   "metadata": {},
   "outputs": [],
   "source": [
    "#load and cache hungry and thirsty recordings\n",
    "s_recordings = get_good_recordings('sated')\n",
    "s_paths = cache_data(s_recordings) \n",
    "smooth_and_cache_fr(s_paths, smooth_size=5, save_dir=data_export_path)"
   ]
  },
  {
   "cell_type": "code",
   "execution_count": 4,
   "metadata": {},
   "outputs": [
    {
     "ename": "NameError",
     "evalue": "name 'cache_data_j' is not defined",
     "output_type": "error",
     "traceback": [
      "\u001b[1;31m---------------------------------------------------------------------------\u001b[0m",
      "\u001b[1;31mNameError\u001b[0m                                 Traceback (most recent call last)",
      "Cell \u001b[1;32mIn[4], line 3\u001b[0m\n\u001b[0;32m      1\u001b[0m \u001b[38;5;66;03m#load and cache jackson data\u001b[39;00m\n\u001b[0;32m      2\u001b[0m jackson_recordings \u001b[38;5;241m=\u001b[39m get_good_recordings(\u001b[38;5;124m'\u001b[39m\u001b[38;5;124mjackson\u001b[39m\u001b[38;5;124m'\u001b[39m)\n\u001b[1;32m----> 3\u001b[0m j_paths \u001b[38;5;241m=\u001b[39m \u001b[43mcache_data_j\u001b[49m(jackson_recordings) \n\u001b[0;32m      4\u001b[0m smooth_and_cache_fr(j_paths, smooth_size\u001b[38;5;241m=\u001b[39m\u001b[38;5;241m5\u001b[39m, save_dir\u001b[38;5;241m=\u001b[39mdata_export_path)\n",
      "\u001b[1;31mNameError\u001b[0m: name 'cache_data_j' is not defined"
     ]
    }
   ],
   "source": [
    "#load and cache jackson data\n",
    "jackson_recordings = get_good_recordings('jackson')\n",
    "j_paths = cache_data_j(jackson_recordings) \n",
    "smooth_and_cache_fr(j_paths, smooth_size=5, save_dir=data_export_path)"
   ]
  },
  {
   "cell_type": "markdown",
   "metadata": {},
   "source": [
    "# Load atlas"
   ]
  },
  {
   "cell_type": "code",
   "execution_count": null,
   "metadata": {},
   "outputs": [],
   "source": [
    "# Load AIBS atlas to use for histology\n",
    "atlas = anatomy.AIBSAtlas()"
   ]
  }
 ],
 "metadata": {
  "kernelspec": {
   "display_name": "Python 3 (ipykernel)",
   "language": "python",
   "name": "python3"
  },
  "language_info": {
   "codemirror_mode": {
    "name": "ipython",
    "version": 3
   },
   "file_extension": ".py",
   "mimetype": "text/x-python",
   "name": "python",
   "nbconvert_exporter": "python",
   "pygments_lexer": "ipython3",
   "version": "3.9.21"
  }
 },
 "nbformat": 4,
 "nbformat_minor": 4
}
