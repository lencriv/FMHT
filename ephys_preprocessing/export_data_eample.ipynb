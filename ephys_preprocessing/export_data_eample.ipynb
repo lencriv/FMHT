{
 "cells": [
  {
   "cell_type": "markdown",
   "id": "3b0bad1c-0dcd-498b-8a47-33ea61ff2a13",
   "metadata": {},
   "source": [
    "# export data"
   ]
  },
  {
   "cell_type": "code",
   "execution_count": null,
   "id": "66e9bc25-e234-438e-bb07-8ce4a484ed87",
   "metadata": {},
   "outputs": [],
   "source": [
    "import numpy as np\n",
    "import matplotlib.pyplot as plt\n",
    "import os\n",
    "import sys\n",
    "from scipy.stats import zscore\n",
    "\n",
    "# add the brainwide-npix folder and subfolder to the working path:\n",
    "sys.path.append(r\"C:\\Users\\LEncR\\Dropbox\\motiv\\scripts\\npix_analysis\\example_analysis\\brainwide-npix\")\n",
    "sys.path.append(r\"C:\\Users\\LEncR\\Dropbox\\motiv\\scripts\\npix_analysis\\example_analysis\\brainwide-npix\\bwnpix\")\n",
    "\n",
    "from bwnpix import data_extract \n",
    "from bwnpix import load\n",
    "from bwnpix import anatomy\n",
    "from bwnpix.multiprobe import *\n",
    "from bwnpix.data_loading import *\n",
    "from bwnpix.plot_functions import *\n",
    "from bwnpix.data_extract import *"
   ]
  },
  {
   "cell_type": "markdown",
   "id": "60b987da-d265-4008-a385-ea1f808bd654",
   "metadata": {},
   "source": [
    "## Load atlas and data"
   ]
  },
  {
   "cell_type": "code",
   "execution_count": 2,
   "id": "5bf98cac-4d6d-4217-a5cb-c3351fb7b868",
   "metadata": {},
   "outputs": [
    {
     "name": "stdout",
     "output_type": "stream",
     "text": [
      "Loading tree...\n",
      "Loading annotation...\n"
     ]
    },
    {
     "name": "stderr",
     "output_type": "stream",
     "text": [
      "C:\\Users\\LEncR\\Dropbox\\motiv\\scripts\\npix_analysis\\example_analysis\\brainwide-npix\\bwnpix\\anatomy.py:135: UserWarning: Reading `.npy` or `.npz` file required additional header parsing as it was created on Python 2. Save the file again to speed up loading and avoid this warning.\n",
      "  self._template = np.load(template_path)\n"
     ]
    },
    {
     "name": "stdout",
     "output_type": "stream",
     "text": [
      "Creating ref space...\n"
     ]
    }
   ],
   "source": [
    "# Load AIBS atlas to use for histology\n",
    "atlas = anatomy.AIBSAtlas()"
   ]
  },
  {
   "cell_type": "code",
   "execution_count": null,
   "id": "8229f8b6-4db6-46a1-9451-c430d4286b9e",
   "metadata": {},
   "outputs": [
    {
     "name": "stderr",
     "output_type": "stream",
     "text": [
      "  0%|          | 0/1 [00:00<?, ?it/s]"
     ]
    },
    {
     "name": "stdout",
     "output_type": "stream",
     "text": [
      "Z:/motiv/data/export/mR2_20221213.pkl\n",
      "Loading recording: mR2_20221213\n"
     ]
    },
    {
     "name": "stderr",
     "output_type": "stream",
     "text": [
      "100%|██████████| 1/1 [00:16<00:00, 16.81s/it]\n"
     ]
    }
   ],
   "source": [
    "# load in recording data across all sessions\n",
    "both_data = load_recording_data(get_good_recordings('both'), atlas=atlas)"
   ]
  },
  {
   "cell_type": "markdown",
   "id": "271475c3-e64d-4e71-912e-354c960ecfe3",
   "metadata": {},
   "source": [
    "# export out files "
   ]
  },
  {
   "cell_type": "markdown",
   "id": "ffcc0c3d-bab8-40e1-8d0f-3676e8f040b9",
   "metadata": {},
   "source": [
    "### extract recording data"
   ]
  },
  {
   "cell_type": "code",
   "execution_count": null,
   "id": "c39ab17f-483c-4316-8149-076beffae7bd",
   "metadata": {},
   "outputs": [],
   "source": [
    "extract_recording_data(both_data) \n"
   ]
  },
  {
   "cell_type": "code",
   "execution_count": null,
   "id": "b24d715f-f798-4508-bf84-35866d9d369a",
   "metadata": {},
   "outputs": [],
   "source": [
    "spike_times_by_neuron_mat(both_data)\n"
   ]
  },
  {
   "cell_type": "markdown",
   "id": "37b648a5-53b1-4f4b-8292-371db10c0157",
   "metadata": {},
   "source": [
    "### region anatomy "
   ]
  },
  {
   "cell_type": "code",
   "execution_count": null,
   "id": "aa17857c-2042-4cba-8ae1-8d90026cf413",
   "metadata": {},
   "outputs": [],
   "source": [
    "extract_regions_per_session(both_data, get_good_recordings('both')) "
   ]
  },
  {
   "cell_type": "markdown",
   "id": "38813969",
   "metadata": {},
   "source": [
    "### unit metrics"
   ]
  },
  {
   "cell_type": "code",
   "execution_count": null,
   "id": "e6f5b302",
   "metadata": {},
   "outputs": [],
   "source": [
    "extract_metrics_per_session(both_data, get_good_recordings('both')) "
   ]
  },
  {
   "cell_type": "markdown",
   "id": "e45795b7-39f4-4793-8f02-b4f5b7383e82",
   "metadata": {},
   "source": [
    "### firing rates"
   ]
  },
  {
   "cell_type": "code",
   "execution_count": null,
   "id": "5506f8ae-3713-495d-9355-9402c54e8923",
   "metadata": {
    "scrolled": true
   },
   "outputs": [],
   "source": [
    "#load and cache hungry and thirsty recordings as npy\n",
    "ht_recordings = get_good_recordings('both')\n",
    "ht_paths = cache_data(ht_recordings) \n",
    "smooth_and_cache_fr(ht_paths, smooth_size=5, save_dir=data_export_path)"
   ]
  }
 ],
 "metadata": {
  "kernelspec": {
   "display_name": "fmht",
   "language": "python",
   "name": "python3"
  },
  "language_info": {
   "codemirror_mode": {
    "name": "ipython",
    "version": 3
   },
   "file_extension": ".py",
   "mimetype": "text/x-python",
   "name": "python",
   "nbconvert_exporter": "python",
   "pygments_lexer": "ipython3",
   "version": "3.9.20"
  }
 },
 "nbformat": 4,
 "nbformat_minor": 5
}
